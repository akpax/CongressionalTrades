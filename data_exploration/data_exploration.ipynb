{
 "cells": [
  {
   "cell_type": "code",
   "execution_count": 1,
   "metadata": {},
   "outputs": [],
   "source": [
    "import pandas as pd\n",
    "import numpy as np\n",
    "import yaml\n",
    "import matplotlib.pyplot as plt"
   ]
  },
  {
   "cell_type": "code",
   "execution_count": 2,
   "metadata": {},
   "outputs": [],
   "source": [
    "%matplotlib inline"
   ]
  },
  {
   "cell_type": "markdown",
   "metadata": {},
   "source": [
    "# Summary\n",
    "\n",
    "### Available Data\n",
    "- current congress members committee membership .yaml\n",
    "- Congress trade records\n",
    "- Congress committees\n",
    "- Stock Meta Data\n",
    "\n",
    "### Goal:\n",
    "- join dataframes together so that congress committees are associated with the respective congress person's trading record\n",
    "- join stock meta data to trading records as well\n",
    "- explore data and determine non-null records we ahve after all merging is completed\n",
    "- use Google's universal sentence encoder to determine semantic similarity between commitee and stock meta information"
   ]
  },
  {
   "cell_type": "markdown",
   "metadata": {},
   "source": [
    "## Utilities"
   ]
  },
  {
   "cell_type": "code",
   "execution_count": 3,
   "metadata": {},
   "outputs": [],
   "source": [
    "def plot_group_counts(df: pd.DataFrame, column: str):\n",
    "    \"\"\"\n",
    "    Groups the DataFrame by the specified column and plots the count of each group.\n",
    "    \"\"\"\n",
    "    # Group by the specified column and count the occurrences\n",
    "    group_counts = df.groupby(column).size()\n",
    "\n",
    "\n",
    "    # Plotting\n",
    "    plt.bar(group_counts.index,group_counts)\n",
    "    plt.xlabel(column)\n",
    "    plt.ylabel('Counts')\n",
    "    plt.title(f'Count of each group in {column}')\n",
    "    plt.show()"
   ]
  },
  {
   "cell_type": "markdown",
   "metadata": {},
   "source": [
    "## Load Data"
   ]
  },
  {
   "cell_type": "code",
   "execution_count": 6,
   "metadata": {},
   "outputs": [
    {
     "name": "stdout",
     "output_type": "stream",
     "text": [
      "<class 'pandas.core.frame.DataFrame'>\n",
      "RangeIndex: 2751 entries, 0 to 2750\n",
      "Data columns (total 5 columns):\n",
      " #   Column      Non-Null Count  Dtype \n",
      "---  ------      --------------  ----- \n",
      " 0   ticker      2751 non-null   object\n",
      " 1   full_name   2751 non-null   object\n",
      " 2   industry    2751 non-null   object\n",
      " 3   country     2751 non-null   object\n",
      " 4   Market Cap  2751 non-null   object\n",
      "dtypes: object(5)\n",
      "memory usage: 107.6+ KB\n"
     ]
    },
    {
     "data": {
      "text/plain": [
       "None"
      ]
     },
     "metadata": {},
     "output_type": "display_data"
    },
    {
     "data": {
      "text/html": [
       "<div>\n",
       "<style scoped>\n",
       "    .dataframe tbody tr th:only-of-type {\n",
       "        vertical-align: middle;\n",
       "    }\n",
       "\n",
       "    .dataframe tbody tr th {\n",
       "        vertical-align: top;\n",
       "    }\n",
       "\n",
       "    .dataframe thead th {\n",
       "        text-align: right;\n",
       "    }\n",
       "</style>\n",
       "<table border=\"1\" class=\"dataframe\">\n",
       "  <thead>\n",
       "    <tr style=\"text-align: right;\">\n",
       "      <th></th>\n",
       "      <th>ticker</th>\n",
       "      <th>full_name</th>\n",
       "      <th>industry</th>\n",
       "      <th>country</th>\n",
       "      <th>Market Cap</th>\n",
       "    </tr>\n",
       "  </thead>\n",
       "  <tbody>\n",
       "    <tr>\n",
       "      <th>0</th>\n",
       "      <td>EBTC</td>\n",
       "      <td>Enterprise Bancorp, Inc.</td>\n",
       "      <td>Banks - Regional</td>\n",
       "      <td>USA</td>\n",
       "      <td>372.11M</td>\n",
       "    </tr>\n",
       "    <tr>\n",
       "      <th>1</th>\n",
       "      <td>PROV</td>\n",
       "      <td>Provident Financial Holdings, Inc.</td>\n",
       "      <td>Banks - Regional</td>\n",
       "      <td>USA</td>\n",
       "      <td>95.26M</td>\n",
       "    </tr>\n",
       "    <tr>\n",
       "      <th>2</th>\n",
       "      <td>DFP</td>\n",
       "      <td>Flaherty &amp; Crumrine Dynamic Preferred and Inco...</td>\n",
       "      <td>Closed-End Fund - Debt</td>\n",
       "      <td>USA</td>\n",
       "      <td>375.64M</td>\n",
       "    </tr>\n",
       "    <tr>\n",
       "      <th>3</th>\n",
       "      <td>STM</td>\n",
       "      <td>STMicroelectronics N.V.</td>\n",
       "      <td>Semiconductors</td>\n",
       "      <td>Switzerland</td>\n",
       "      <td>46.42B</td>\n",
       "    </tr>\n",
       "    <tr>\n",
       "      <th>4</th>\n",
       "      <td>F</td>\n",
       "      <td>Ford Motor Company</td>\n",
       "      <td>Auto Manufacturers</td>\n",
       "      <td>USA</td>\n",
       "      <td>49.84B</td>\n",
       "    </tr>\n",
       "  </tbody>\n",
       "</table>\n",
       "</div>"
      ],
      "text/plain": [
       "  ticker                                          full_name  \\\n",
       "0   EBTC                           Enterprise Bancorp, Inc.   \n",
       "1   PROV                 Provident Financial Holdings, Inc.   \n",
       "2    DFP  Flaherty & Crumrine Dynamic Preferred and Inco...   \n",
       "3    STM                            STMicroelectronics N.V.   \n",
       "4      F                                 Ford Motor Company   \n",
       "\n",
       "                 industry      country Market Cap  \n",
       "0        Banks - Regional          USA    372.11M  \n",
       "1        Banks - Regional          USA     95.26M  \n",
       "2  Closed-End Fund - Debt          USA    375.64M  \n",
       "3          Semiconductors  Switzerland     46.42B  \n",
       "4      Auto Manufacturers          USA     49.84B  "
      ]
     },
     "metadata": {},
     "output_type": "display_data"
    }
   ],
   "source": [
    "stock_meta_df = pd.read_csv(\"../data/finviz_4-12-23.csv\")\n",
    "\n",
    "stock_meta_df = stock_meta_df[[\"ticker\",\"full_name\", \"industry\", \"country\", \"Market Cap\"]]\n",
    "display(stock_meta_df.info())\n",
    "display(stock_meta_df.head())"
   ]
  },
  {
   "cell_type": "code",
   "execution_count": 8,
   "metadata": {},
   "outputs": [
    {
     "name": "stdout",
     "output_type": "stream",
     "text": [
      "<class 'pandas.core.frame.DataFrame'>\n",
      "RangeIndex: 22620 entries, 0 to 22619\n",
      "Data columns (total 9 columns):\n",
      " #   Column           Non-Null Count  Dtype          \n",
      "---  ------           --------------  -----          \n",
      " 0   ReportDate       22261 non-null  datetime64[ns] \n",
      " 1   TransactionDate  22620 non-null  datetime64[ns] \n",
      " 2   Ticker           22620 non-null  object         \n",
      " 3   name             22620 non-null  object         \n",
      " 4   Transaction      22620 non-null  object         \n",
      " 5   Amount           22620 non-null  float64        \n",
      " 6   House            22620 non-null  object         \n",
      " 7   Range            22620 non-null  object         \n",
      " 8   TimeToReport     22261 non-null  timedelta64[ns]\n",
      "dtypes: datetime64[ns](2), float64(1), object(5), timedelta64[ns](1)\n",
      "memory usage: 1.6+ MB\n",
      "None\n",
      "First transaction: 2014-07-25 00:00:00\n",
      "Last transaction: 2023-03-03 00:00:00\n",
      "Unique Tickers Traded: 1585\n",
      "QTY Congress People: 218\n"
     ]
    }
   ],
   "source": [
    "congress_trades_df = pd.read_csv(\"../data/congress_trades_all.csv\")\n",
    "congress_trades_df.rename(columns={\"Representative\": \"name\"}, inplace=True)\n",
    "congress_trades_df[[\"TransactionDate\",\"ReportDate\"]] = \\\n",
    "    congress_trades_df[[\"TransactionDate\",\"ReportDate\"]].apply(pd.to_datetime)\n",
    "\n",
    "congress_trades_df[\"TimeToReport\"] = congress_trades_df[\"ReportDate\"] - congress_trades_df[\"TransactionDate\"]\n",
    "print(congress_trades_df.info())\n",
    "\n",
    "print(f\"First transaction: {congress_trades_df['TransactionDate'].min()}\")\n",
    "print(f\"Last transaction: {congress_trades_df['TransactionDate'].max()}\")\n",
    "\n",
    "print(f'Unique Tickers Traded: {len(congress_trades_df[\"Ticker\"].unique())}')\n",
    "print(f'QTY Congress People: {len(congress_trades_df[\"name\"].unique())}')\n"
   ]
  },
  {
   "cell_type": "code",
   "execution_count": null,
   "metadata": {},
   "outputs": [],
   "source": []
  },
  {
   "cell_type": "code",
   "execution_count": 9,
   "metadata": {},
   "outputs": [
    {
     "data": {
      "image/png": "[encoded data removed]",
      "text/plain": [
       "<Figure size 640x480 with 1 Axes>"
      ]
     },
     "metadata": {},
     "output_type": "display_data"
    },
    {
     "name": "stdout",
     "output_type": "stream",
     "text": [
      "Top 10 Most Trades Placed: name\n",
      "David Perdue          1930\n",
      " Josh Gottheimer      1467\n",
      " Gilbert Cisneros      966\n",
      " Dean Phillips         881\n",
      " Susie Lee             774\n",
      " Lois Frankel          613\n",
      " Alan S. Lowenthal     585\n",
      " Thomas Suozzi         584\n",
      " Greg Gianforte        578\n",
      "Tommy Tuberville       552\n",
      "dtype: int64\n"
     ]
    }
   ],
   "source": [
    "grouped_df = congress_trades_df.groupby(\"name\").size()\n",
    "\n",
    "plot_group_counts(congress_trades_df, \"name\")\n",
    "print(f\"Top 10 Most Trades Placed: {grouped_df.sort_values(ascending=False).head(10)}\")"
   ]
  },
  {
   "cell_type": "code",
   "execution_count": 25,
   "metadata": {},
   "outputs": [
    {
     "data": {
      "text/plain": [
       "<Axes: ylabel='Frequency'>"
      ]
     },
     "execution_count": 25,
     "metadata": {},
     "output_type": "execute_result"
    },
    {
     "data": {
      "image/png": "[encoded data removed]",
      "text/plain": [
       "<Figure size 640x480 with 1 Axes>"
      ]
     },
     "metadata": {},
     "output_type": "display_data"
    }
   ],
   "source": [
    "grouped_df = congress_trades_df.groupby(pd.Grouper(key=\"TimeToReport\",freq=\"7D\")).size()\n",
    "grouped_df.plot.hist(bins=50)\n"
   ]
  },
  {
   "cell_type": "code",
   "execution_count": 27,
   "metadata": {},
   "outputs": [
    {
     "name": "stdout",
     "output_type": "stream",
     "text": [
      "Longest Time Elapsed Before Reporting\n",
      "TimeToReport\n",
      "2174 days    14\n",
      "1839 days     2\n",
      "1726 days     2\n",
      "1722 days    19\n",
      "1707 days     1\n",
      "1694 days     2\n",
      "1686 days     1\n",
      "1640 days     1\n",
      "1636 days     2\n",
      "1548 days     1\n",
      "1540 days     3\n",
      "1539 days     4\n",
      "1526 days     1\n",
      "1504 days     1\n",
      "1502 days     1\n",
      "1498 days    29\n",
      "1490 days     3\n",
      "1479 days     7\n",
      "1466 days     2\n",
      "1461 days     1\n",
      "dtype: int64\n"
     ]
    }
   ],
   "source": [
    "grouped_df = congress_trades_df.groupby('TimeToReport').size()\n",
    "print(\"Longest Time Elapsed Before Reporting\")\n",
    "print(grouped_df.sort_index(ascending=False).head(10))"
   ]
  },
  {
   "cell_type": "code",
   "execution_count": 37,
   "metadata": {},
   "outputs": [
    {
     "name": "stdout",
     "output_type": "stream",
     "text": [
      "119 out of 218 Congress members (54.6%) violated the stock act\n",
      "name\n",
      " Thomas Suozzi          539\n",
      "David Perdue            427\n",
      " Donna Shalala          394\n",
      " Josh Gottheimer        231\n",
      " Gary Palmer            192\n",
      " Susie Lee              172\n",
      " Tom Malinowski         156\n",
      " Katherine M. Clark     140\n",
      " Cindy Axne             139\n",
      "Shelley Moore Capito    139\n",
      "dtype: int64\n",
      "                     name  ViolatingTrades\n",
      "83          Thomas Suozzi              539\n",
      "98           David Perdue              427\n",
      "24          Donna Shalala              394\n",
      "44        Josh Gottheimer              231\n",
      "29            Gary Palmer              192\n",
      "79              Susie Lee              172\n",
      "84         Tom Malinowski              156\n",
      "46     Katherine M. Clark              140\n",
      "13             Cindy Axne              139\n",
      "110  Shelley Moore Capito              139\n"
     ]
    }
   ],
   "source": [
    "# stock act requires all trades to be reported within 45 days of transaction.. \n",
    "# lets see who violated this \n",
    "violating_trades_df = congress_trades_df[congress_trades_df[\"TimeToReport\"]> pd.Timedelta(days=45)]\n",
    "violating_trades_df.head()\n",
    "violators = violating_trades_df[\"name\"].unique()\n",
    "members = congress_trades_df[\"name\"].unique()\n",
    "percent_violated = round(len(violators)/len(members)*100,1)\n",
    "print(f\"{len(violators)} out of {len(members)} Congress members ({percent_violated}%) violated the stock act\")\n",
    "\n",
    "violators_grouped = violating_trades_df.groupby(\"name\").size()\n",
    "print(violators_grouped.sort_values(ascending=False).head(10))\n",
    "violators_grouped = pd.DataFrame({\"ViolatingTrades\": violating_trades_df.groupby(\"name\").size() }).reset_index()\n",
    "print(violators_grouped.sort_values(by=\"ViolatingTrades\",ascending=False).head(10))"
   ]
  },
  {
   "cell_type": "code",
   "execution_count": null,
   "metadata": {},
   "outputs": [],
   "source": []
  }
 ],
 "metadata": {
  "kernelspec": {
   "display_name": "venv",
   "language": "python",
   "name": "python3"
  },
  "language_info": {
   "codemirror_mode": {
    "name": "ipython",
    "version": 3
   },
   "file_extension": ".py",
   "mimetype": "text/x-python",
   "name": "python",
   "nbconvert_exporter": "python",
   "pygments_lexer": "ipython3",
   "version": "3.9.0"
  }
 },
 "nbformat": 4,
 "nbformat_minor": 2
}
