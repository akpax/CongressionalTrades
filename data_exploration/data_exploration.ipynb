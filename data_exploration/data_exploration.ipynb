{
 "cells": [
  {
   "cell_type": "code",
   "execution_count": 29,
   "metadata": {},
   "outputs": [],
   "source": [
    "import pandas as pd\n",
    "import numpy as np\n",
    "import yaml\n",
    "import matplotlib.pyplot as plt"
   ]
  },
  {
   "cell_type": "code",
   "execution_count": null,
   "metadata": {},
   "outputs": [],
   "source": [
    "%matplotlib inline"
   ]
  },
  {
   "cell_type": "markdown",
   "metadata": {},
   "source": [
    "# Summary\n",
    "\n",
    "### Available Data\n",
    "- current congress members committee membership .yaml\n",
    "- Congress trade records\n",
    "- Congress committees\n",
    "- Stock Meta Data\n",
    "\n",
    "### Goal:\n",
    "- join dataframes together so that congress committees are associated with the respective congress person's trading record\n",
    "- join stock meta data to trading records as well\n",
    "- explore data and determine non-null records we ahve after all merging is completed\n",
    "- use Google's universal sentence encoder to determine semantic similarity between commitee and stock meta information"
   ]
  },
  {
   "cell_type": "markdown",
   "metadata": {},
   "source": [
    "## Utilities"
   ]
  },
  {
   "cell_type": "code",
   "execution_count": 39,
   "metadata": {},
   "outputs": [],
   "source": [
    "def plot_group_counts(df: pd.DataFrame, column: str):\n",
    "    \"\"\"\n",
    "    Groups the DataFrame by the specified column and plots the count of each group.\n",
    "    \"\"\"\n",
    "    # Group by the specified column and count the occurrences\n",
    "    group_counts = df.groupby(column).size()\n",
    "\n",
    "\n",
    "    # Plotting\n",
    "    plt.bar(group_counts.index,group_counts)\n",
    "    plt.xlabel(column)\n",
    "    plt.ylabel('Counts')\n",
    "    plt.title(f'Count of each group in {column}')\n",
    "    plt.show()"
   ]
  },
  {
   "cell_type": "markdown",
   "metadata": {},
   "source": [
    "## Load Data"
   ]
  },
  {
   "cell_type": "code",
   "execution_count": 40,
   "metadata": {},
   "outputs": [
    {
     "name": "stdout",
     "output_type": "stream",
     "text": [
      "<class 'pandas.core.frame.DataFrame'>\n",
      "RangeIndex: 2751 entries, 0 to 2750\n",
      "Data columns (total 5 columns):\n",
      " #   Column      Non-Null Count  Dtype \n",
      "---  ------      --------------  ----- \n",
      " 0   ticker      2751 non-null   object\n",
      " 1   full_name   2751 non-null   object\n",
      " 2   industry    2751 non-null   object\n",
      " 3   country     2751 non-null   object\n",
      " 4   Market Cap  2751 non-null   object\n",
      "dtypes: object(5)\n",
      "memory usage: 107.6+ KB\n"
     ]
    },
    {
     "data": {
      "text/plain": [
       "None"
      ]
     },
     "metadata": {},
     "output_type": "display_data"
    },
    {
     "data": {
      "text/html": [
       "<div>\n",
       "<style scoped>\n",
       "    .dataframe tbody tr th:only-of-type {\n",
       "        vertical-align: middle;\n",
       "    }\n",
       "\n",
       "    .dataframe tbody tr th {\n",
       "        vertical-align: top;\n",
       "    }\n",
       "\n",
       "    .dataframe thead th {\n",
       "        text-align: right;\n",
       "    }\n",
       "</style>\n",
       "<table border=\"1\" class=\"dataframe\">\n",
       "  <thead>\n",
       "    <tr style=\"text-align: right;\">\n",
       "      <th></th>\n",
       "      <th>ticker</th>\n",
       "      <th>full_name</th>\n",
       "      <th>industry</th>\n",
       "      <th>country</th>\n",
       "      <th>Market Cap</th>\n",
       "    </tr>\n",
       "  </thead>\n",
       "  <tbody>\n",
       "    <tr>\n",
       "      <th>0</th>\n",
       "      <td>EBTC</td>\n",
       "      <td>Enterprise Bancorp, Inc.</td>\n",
       "      <td>Banks - Regional</td>\n",
       "      <td>USA</td>\n",
       "      <td>372.11M</td>\n",
       "    </tr>\n",
       "    <tr>\n",
       "      <th>1</th>\n",
       "      <td>PROV</td>\n",
       "      <td>Provident Financial Holdings, Inc.</td>\n",
       "      <td>Banks - Regional</td>\n",
       "      <td>USA</td>\n",
       "      <td>95.26M</td>\n",
       "    </tr>\n",
       "    <tr>\n",
       "      <th>2</th>\n",
       "      <td>DFP</td>\n",
       "      <td>Flaherty &amp; Crumrine Dynamic Preferred and Inco...</td>\n",
       "      <td>Closed-End Fund - Debt</td>\n",
       "      <td>USA</td>\n",
       "      <td>375.64M</td>\n",
       "    </tr>\n",
       "    <tr>\n",
       "      <th>3</th>\n",
       "      <td>STM</td>\n",
       "      <td>STMicroelectronics N.V.</td>\n",
       "      <td>Semiconductors</td>\n",
       "      <td>Switzerland</td>\n",
       "      <td>46.42B</td>\n",
       "    </tr>\n",
       "    <tr>\n",
       "      <th>4</th>\n",
       "      <td>F</td>\n",
       "      <td>Ford Motor Company</td>\n",
       "      <td>Auto Manufacturers</td>\n",
       "      <td>USA</td>\n",
       "      <td>49.84B</td>\n",
       "    </tr>\n",
       "  </tbody>\n",
       "</table>\n",
       "</div>"
      ],
      "text/plain": [
       "  ticker                                          full_name  \\\n",
       "0   EBTC                           Enterprise Bancorp, Inc.   \n",
       "1   PROV                 Provident Financial Holdings, Inc.   \n",
       "2    DFP  Flaherty & Crumrine Dynamic Preferred and Inco...   \n",
       "3    STM                            STMicroelectronics N.V.   \n",
       "4      F                                 Ford Motor Company   \n",
       "\n",
       "                 industry      country Market Cap  \n",
       "0        Banks - Regional          USA    372.11M  \n",
       "1        Banks - Regional          USA     95.26M  \n",
       "2  Closed-End Fund - Debt          USA    375.64M  \n",
       "3          Semiconductors  Switzerland     46.42B  \n",
       "4      Auto Manufacturers          USA     49.84B  "
      ]
     },
     "metadata": {},
     "output_type": "display_data"
    }
   ],
   "source": [
    "stock_meta_df = pd.read_csv(\"data/finviz_4-12-23.csv\")\n",
    "\n",
    "stock_meta_df = stock_meta_df[[\"ticker\",\"full_name\", \"industry\", \"country\", \"Market Cap\"]]\n",
    "display(stock_meta_df.info())\n",
    "display(stock_meta_df.head())"
   ]
  },
  {
   "cell_type": "code",
   "execution_count": 48,
   "metadata": {},
   "outputs": [
    {
     "name": "stdout",
     "output_type": "stream",
     "text": [
      "<class 'pandas.core.frame.DataFrame'>\n",
      "RangeIndex: 22620 entries, 0 to 22619\n",
      "Data columns (total 9 columns):\n",
      " #   Column           Non-Null Count  Dtype          \n",
      "---  ------           --------------  -----          \n",
      " 0   ReportDate       22261 non-null  datetime64[ns] \n",
      " 1   TransactionDate  22620 non-null  datetime64[ns] \n",
      " 2   Ticker           22620 non-null  object         \n",
      " 3   name             22620 non-null  object         \n",
      " 4   Transaction      22620 non-null  object         \n",
      " 5   Amount           22620 non-null  float64        \n",
      " 6   House            22620 non-null  object         \n",
      " 7   Range            22620 non-null  object         \n",
      " 8   TimeToReport     22261 non-null  timedelta64[ns]\n",
      "dtypes: datetime64[ns](2), float64(1), object(5), timedelta64[ns](1)\n",
      "memory usage: 1.6+ MB\n",
      "None\n",
      "First transaction: 2014-07-25 00:00:00\n",
      "Last transaction: 2023-03-03 00:00:00\n",
      "Unique Tickers Traded: 1585\n",
      "QTY Congress People: 218\n"
     ]
    }
   ],
   "source": [
    "congress_trades_df = pd.read_csv(\"data/congress_trades_all.csv\")\n",
    "congress_trades_df.rename(columns={\"Representative\": \"name\"}, inplace=True)\n",
    "congress_trades_df[[\"TransactionDate\",\"ReportDate\"]] = \\\n",
    "    congress_trades_df[[\"TransactionDate\",\"ReportDate\"]].apply(pd.to_datetime)\n",
    "\n",
    "congress_trades_df[\"TimeToReport\"] = congress_trades_df[\"ReportDate\"] - congress_trades_df[\"TransactionDate\"]\n",
    "print(congress_trades_df.info())\n",
    "\n",
    "print(f\"First transaction: {congress_trades_df['TransactionDate'].min()}\")\n",
    "print(f\"Last transaction: {congress_trades_df['TransactionDate'].max()}\")\n",
    "\n",
    "print(f'Unique Tickers Traded: {len(congress_trades_df[\"Ticker\"].unique())}')\n",
    "print(f'QTY Congress People: {len(congress_trades_df[\"name\"].unique())}')\n"
   ]
  },
  {
   "cell_type": "code",
   "execution_count": 49,
   "metadata": {},
   "outputs": [
    {
     "data": {
      "text/html": [
       "<div>\n",
       "<style scoped>\n",
       "    .dataframe tbody tr th:only-of-type {\n",
       "        vertical-align: middle;\n",
       "    }\n",
       "\n",
       "    .dataframe tbody tr th {\n",
       "        vertical-align: top;\n",
       "    }\n",
       "\n",
       "    .dataframe thead th {\n",
       "        text-align: right;\n",
       "    }\n",
       "</style>\n",
       "<table border=\"1\" class=\"dataframe\">\n",
       "  <thead>\n",
       "    <tr style=\"text-align: right;\">\n",
       "      <th></th>\n",
       "      <th>ReportDate</th>\n",
       "      <th>TransactionDate</th>\n",
       "      <th>Ticker</th>\n",
       "      <th>name</th>\n",
       "      <th>Transaction</th>\n",
       "      <th>Amount</th>\n",
       "      <th>House</th>\n",
       "      <th>Range</th>\n",
       "      <th>TimeToReport</th>\n",
       "    </tr>\n",
       "  </thead>\n",
       "  <tbody>\n",
       "    <tr>\n",
       "      <th>0</th>\n",
       "      <td>2020-04-16</td>\n",
       "      <td>2020-03-18</td>\n",
       "      <td>COTY</td>\n",
       "      <td>Gilbert Cisneros</td>\n",
       "      <td>Sale</td>\n",
       "      <td>1001.0</td>\n",
       "      <td>Representatives</td>\n",
       "      <td>$1,001-$15,000</td>\n",
       "      <td>29 days</td>\n",
       "    </tr>\n",
       "    <tr>\n",
       "      <th>1</th>\n",
       "      <td>2020-01-10</td>\n",
       "      <td>2019-12-06</td>\n",
       "      <td>COTY</td>\n",
       "      <td>Gilbert Cisneros</td>\n",
       "      <td>Purchase</td>\n",
       "      <td>1001.0</td>\n",
       "      <td>Representatives</td>\n",
       "      <td>$1,001-$15,000</td>\n",
       "      <td>35 days</td>\n",
       "    </tr>\n",
       "    <tr>\n",
       "      <th>2</th>\n",
       "      <td>2019-09-11</td>\n",
       "      <td>2019-08-14</td>\n",
       "      <td>COTY</td>\n",
       "      <td>Gilbert Cisneros</td>\n",
       "      <td>Sale</td>\n",
       "      <td>1001.0</td>\n",
       "      <td>Representatives</td>\n",
       "      <td>$1,001-$15,000</td>\n",
       "      <td>28 days</td>\n",
       "    </tr>\n",
       "    <tr>\n",
       "      <th>3</th>\n",
       "      <td>2019-09-16</td>\n",
       "      <td>2019-08-13</td>\n",
       "      <td>COTY</td>\n",
       "      <td>Dean Phillips</td>\n",
       "      <td>Sale</td>\n",
       "      <td>1001.0</td>\n",
       "      <td>Representatives</td>\n",
       "      <td>$1,001-$15,000</td>\n",
       "      <td>34 days</td>\n",
       "    </tr>\n",
       "    <tr>\n",
       "      <th>4</th>\n",
       "      <td>2019-04-16</td>\n",
       "      <td>2019-03-14</td>\n",
       "      <td>COTY</td>\n",
       "      <td>Gilbert Cisneros</td>\n",
       "      <td>Purchase</td>\n",
       "      <td>1001.0</td>\n",
       "      <td>Representatives</td>\n",
       "      <td>$1,001-$15,000</td>\n",
       "      <td>33 days</td>\n",
       "    </tr>\n",
       "  </tbody>\n",
       "</table>\n",
       "</div>"
      ],
      "text/plain": [
       "  ReportDate TransactionDate Ticker               name Transaction  Amount  \\\n",
       "0 2020-04-16      2020-03-18   COTY   Gilbert Cisneros        Sale  1001.0   \n",
       "1 2020-01-10      2019-12-06   COTY   Gilbert Cisneros    Purchase  1001.0   \n",
       "2 2019-09-11      2019-08-14   COTY   Gilbert Cisneros        Sale  1001.0   \n",
       "3 2019-09-16      2019-08-13   COTY      Dean Phillips        Sale  1001.0   \n",
       "4 2019-04-16      2019-03-14   COTY   Gilbert Cisneros    Purchase  1001.0   \n",
       "\n",
       "             House           Range TimeToReport  \n",
       "0  Representatives  $1,001-$15,000      29 days  \n",
       "1  Representatives  $1,001-$15,000      35 days  \n",
       "2  Representatives  $1,001-$15,000      28 days  \n",
       "3  Representatives  $1,001-$15,000      34 days  \n",
       "4  Representatives  $1,001-$15,000      33 days  "
      ]
     },
     "execution_count": 49,
     "metadata": {},
     "output_type": "execute_result"
    }
   ],
   "source": []
  },
  {
   "cell_type": "code",
   "execution_count": 47,
   "metadata": {},
   "outputs": [
    {
     "data": {
      "image/png": "[encoded data removed]",
      "text/plain": [
       "<Figure size 640x480 with 1 Axes>"
      ]
     },
     "metadata": {},
     "output_type": "display_data"
    },
    {
     "name": "stdout",
     "output_type": "stream",
     "text": [
      "Top 10 Most Trades Placed: name\n",
      "David Perdue          1930\n",
      " Josh Gottheimer      1467\n",
      " Gilbert Cisneros      966\n",
      " Dean Phillips         881\n",
      " Susie Lee             774\n",
      " Lois Frankel          613\n",
      " Alan S. Lowenthal     585\n",
      " Thomas Suozzi         584\n",
      " Greg Gianforte        578\n",
      "Tommy Tuberville       552\n",
      "dtype: int64\n"
     ]
    }
   ],
   "source": [
    "grouped_df = congress_trades_df.groupby(\"name\").size()\n",
    "\n",
    "plot_group_counts(congress_trades_df, \"name\")\n",
    "print(f\"Top 10 Most Trades Placed: {grouped_df.sort_values(ascending=False).head(10)}\")"
   ]
  },
  {
   "cell_type": "code",
   "execution_count": 51,
   "metadata": {},
   "outputs": [
    {
     "ename": "TypeError",
     "evalue": "the dtypes of parameters x (timedelta64[ns]) and width (float64) are incompatible",
     "output_type": "error",
     "traceback": [
      "\u001b[0;31m---------------------------------------------------------------------------\u001b[0m",
      "\u001b[0;31mUFuncTypeError\u001b[0m                            Traceback (most recent call last)",
      "File \u001b[0;32m~/Documents/Code/ML_projects/congress_trades/venv/lib/python3.9/site-packages/matplotlib/axes/_axes.py:2498\u001b[0m, in \u001b[0;36mAxes.bar\u001b[0;34m(self, x, height, width, bottom, align, **kwargs)\u001b[0m\n\u001b[1;32m   2497\u001b[0m \u001b[38;5;28;01mtry\u001b[39;00m:\n\u001b[0;32m-> 2498\u001b[0m     left \u001b[38;5;241m=\u001b[39m \u001b[43mx\u001b[49m\u001b[43m \u001b[49m\u001b[38;5;241;43m-\u001b[39;49m\u001b[43m \u001b[49m\u001b[43mwidth\u001b[49m\u001b[43m \u001b[49m\u001b[38;5;241;43m/\u001b[39;49m\u001b[43m \u001b[49m\u001b[38;5;241;43m2\u001b[39;49m\n\u001b[1;32m   2499\u001b[0m \u001b[38;5;28;01mexcept\u001b[39;00m \u001b[38;5;167;01mTypeError\u001b[39;00m \u001b[38;5;28;01mas\u001b[39;00m e:\n",
      "\u001b[0;31mUFuncTypeError\u001b[0m: ufunc 'subtract' cannot use operands with types dtype('<m8[ns]') and dtype('float64')",
      "\nThe above exception was the direct cause of the following exception:\n",
      "\u001b[0;31mTypeError\u001b[0m                                 Traceback (most recent call last)",
      "Cell \u001b[0;32mIn[51], line 2\u001b[0m\n\u001b[1;32m      1\u001b[0m grouped_df \u001b[38;5;241m=\u001b[39m congress_trades_df\u001b[38;5;241m.\u001b[39mgroupby(\u001b[38;5;124m\"\u001b[39m\u001b[38;5;124mTimeToReport\u001b[39m\u001b[38;5;124m\"\u001b[39m)\u001b[38;5;241m.\u001b[39msize()\n\u001b[0;32m----> 2\u001b[0m \u001b[43mplot_group_counts\u001b[49m\u001b[43m(\u001b[49m\u001b[43mcongress_trades_df\u001b[49m\u001b[43m,\u001b[49m\u001b[38;5;124;43m\"\u001b[39;49m\u001b[38;5;124;43mTimeToReport\u001b[39;49m\u001b[38;5;124;43m\"\u001b[39;49m\u001b[43m)\u001b[49m\n",
      "Cell \u001b[0;32mIn[39], line 10\u001b[0m, in \u001b[0;36mplot_group_counts\u001b[0;34m(df, column)\u001b[0m\n\u001b[1;32m      6\u001b[0m group_counts \u001b[38;5;241m=\u001b[39m df\u001b[38;5;241m.\u001b[39mgroupby(column)\u001b[38;5;241m.\u001b[39msize()\n\u001b[1;32m      9\u001b[0m \u001b[38;5;66;03m# Plotting\u001b[39;00m\n\u001b[0;32m---> 10\u001b[0m \u001b[43mplt\u001b[49m\u001b[38;5;241;43m.\u001b[39;49m\u001b[43mbar\u001b[49m\u001b[43m(\u001b[49m\u001b[43mgroup_counts\u001b[49m\u001b[38;5;241;43m.\u001b[39;49m\u001b[43mindex\u001b[49m\u001b[43m,\u001b[49m\u001b[43mgroup_counts\u001b[49m\u001b[43m)\u001b[49m\n\u001b[1;32m     11\u001b[0m plt\u001b[38;5;241m.\u001b[39mxlabel(column)\n\u001b[1;32m     12\u001b[0m plt\u001b[38;5;241m.\u001b[39mylabel(\u001b[38;5;124m'\u001b[39m\u001b[38;5;124mCounts\u001b[39m\u001b[38;5;124m'\u001b[39m)\n",
      "File \u001b[0;32m~/Documents/Code/ML_projects/congress_trades/venv/lib/python3.9/site-packages/matplotlib/pyplot.py:2739\u001b[0m, in \u001b[0;36mbar\u001b[0;34m(x, height, width, bottom, align, data, **kwargs)\u001b[0m\n\u001b[1;32m   2728\u001b[0m \u001b[38;5;129m@_copy_docstring_and_deprecators\u001b[39m(Axes\u001b[38;5;241m.\u001b[39mbar)\n\u001b[1;32m   2729\u001b[0m \u001b[38;5;28;01mdef\u001b[39;00m \u001b[38;5;21mbar\u001b[39m(\n\u001b[1;32m   2730\u001b[0m     x: \u001b[38;5;28mfloat\u001b[39m \u001b[38;5;241m|\u001b[39m ArrayLike,\n\u001b[0;32m   (...)\u001b[0m\n\u001b[1;32m   2737\u001b[0m     \u001b[38;5;241m*\u001b[39m\u001b[38;5;241m*\u001b[39mkwargs,\n\u001b[1;32m   2738\u001b[0m ) \u001b[38;5;241m-\u001b[39m\u001b[38;5;241m>\u001b[39m BarContainer:\n\u001b[0;32m-> 2739\u001b[0m     \u001b[38;5;28;01mreturn\u001b[39;00m \u001b[43mgca\u001b[49m\u001b[43m(\u001b[49m\u001b[43m)\u001b[49m\u001b[38;5;241;43m.\u001b[39;49m\u001b[43mbar\u001b[49m\u001b[43m(\u001b[49m\n\u001b[1;32m   2740\u001b[0m \u001b[43m        \u001b[49m\u001b[43mx\u001b[49m\u001b[43m,\u001b[49m\n\u001b[1;32m   2741\u001b[0m \u001b[43m        \u001b[49m\u001b[43mheight\u001b[49m\u001b[43m,\u001b[49m\n\u001b[1;32m   2742\u001b[0m \u001b[43m        \u001b[49m\u001b[43mwidth\u001b[49m\u001b[38;5;241;43m=\u001b[39;49m\u001b[43mwidth\u001b[49m\u001b[43m,\u001b[49m\n\u001b[1;32m   2743\u001b[0m \u001b[43m        \u001b[49m\u001b[43mbottom\u001b[49m\u001b[38;5;241;43m=\u001b[39;49m\u001b[43mbottom\u001b[49m\u001b[43m,\u001b[49m\n\u001b[1;32m   2744\u001b[0m \u001b[43m        \u001b[49m\u001b[43malign\u001b[49m\u001b[38;5;241;43m=\u001b[39;49m\u001b[43malign\u001b[49m\u001b[43m,\u001b[49m\n\u001b[1;32m   2745\u001b[0m \u001b[43m        \u001b[49m\u001b[38;5;241;43m*\u001b[39;49m\u001b[38;5;241;43m*\u001b[39;49m\u001b[43m(\u001b[49m\u001b[43m{\u001b[49m\u001b[38;5;124;43m\"\u001b[39;49m\u001b[38;5;124;43mdata\u001b[39;49m\u001b[38;5;124;43m\"\u001b[39;49m\u001b[43m:\u001b[49m\u001b[43m \u001b[49m\u001b[43mdata\u001b[49m\u001b[43m}\u001b[49m\u001b[43m \u001b[49m\u001b[38;5;28;43;01mif\u001b[39;49;00m\u001b[43m \u001b[49m\u001b[43mdata\u001b[49m\u001b[43m \u001b[49m\u001b[38;5;129;43;01mis\u001b[39;49;00m\u001b[43m \u001b[49m\u001b[38;5;129;43;01mnot\u001b[39;49;00m\u001b[43m \u001b[49m\u001b[38;5;28;43;01mNone\u001b[39;49;00m\u001b[43m \u001b[49m\u001b[38;5;28;43;01melse\u001b[39;49;00m\u001b[43m \u001b[49m\u001b[43m{\u001b[49m\u001b[43m}\u001b[49m\u001b[43m)\u001b[49m\u001b[43m,\u001b[49m\n\u001b[1;32m   2746\u001b[0m \u001b[43m        \u001b[49m\u001b[38;5;241;43m*\u001b[39;49m\u001b[38;5;241;43m*\u001b[39;49m\u001b[43mkwargs\u001b[49m\u001b[43m,\u001b[49m\n\u001b[1;32m   2747\u001b[0m \u001b[43m    \u001b[49m\u001b[43m)\u001b[49m\n",
      "File \u001b[0;32m~/Documents/Code/ML_projects/congress_trades/venv/lib/python3.9/site-packages/matplotlib/__init__.py:1465\u001b[0m, in \u001b[0;36m_preprocess_data.<locals>.inner\u001b[0;34m(ax, data, *args, **kwargs)\u001b[0m\n\u001b[1;32m   1462\u001b[0m \u001b[38;5;129m@functools\u001b[39m\u001b[38;5;241m.\u001b[39mwraps(func)\n\u001b[1;32m   1463\u001b[0m \u001b[38;5;28;01mdef\u001b[39;00m \u001b[38;5;21minner\u001b[39m(ax, \u001b[38;5;241m*\u001b[39margs, data\u001b[38;5;241m=\u001b[39m\u001b[38;5;28;01mNone\u001b[39;00m, \u001b[38;5;241m*\u001b[39m\u001b[38;5;241m*\u001b[39mkwargs):\n\u001b[1;32m   1464\u001b[0m     \u001b[38;5;28;01mif\u001b[39;00m data \u001b[38;5;129;01mis\u001b[39;00m \u001b[38;5;28;01mNone\u001b[39;00m:\n\u001b[0;32m-> 1465\u001b[0m         \u001b[38;5;28;01mreturn\u001b[39;00m \u001b[43mfunc\u001b[49m\u001b[43m(\u001b[49m\u001b[43max\u001b[49m\u001b[43m,\u001b[49m\u001b[43m \u001b[49m\u001b[38;5;241;43m*\u001b[39;49m\u001b[38;5;28;43mmap\u001b[39;49m\u001b[43m(\u001b[49m\u001b[43msanitize_sequence\u001b[49m\u001b[43m,\u001b[49m\u001b[43m \u001b[49m\u001b[43margs\u001b[49m\u001b[43m)\u001b[49m\u001b[43m,\u001b[49m\u001b[43m \u001b[49m\u001b[38;5;241;43m*\u001b[39;49m\u001b[38;5;241;43m*\u001b[39;49m\u001b[43mkwargs\u001b[49m\u001b[43m)\u001b[49m\n\u001b[1;32m   1467\u001b[0m     bound \u001b[38;5;241m=\u001b[39m new_sig\u001b[38;5;241m.\u001b[39mbind(ax, \u001b[38;5;241m*\u001b[39margs, \u001b[38;5;241m*\u001b[39m\u001b[38;5;241m*\u001b[39mkwargs)\n\u001b[1;32m   1468\u001b[0m     auto_label \u001b[38;5;241m=\u001b[39m (bound\u001b[38;5;241m.\u001b[39marguments\u001b[38;5;241m.\u001b[39mget(label_namer)\n\u001b[1;32m   1469\u001b[0m                   \u001b[38;5;129;01mor\u001b[39;00m bound\u001b[38;5;241m.\u001b[39mkwargs\u001b[38;5;241m.\u001b[39mget(label_namer))\n",
      "File \u001b[0;32m~/Documents/Code/ML_projects/congress_trades/venv/lib/python3.9/site-packages/matplotlib/axes/_axes.py:2500\u001b[0m, in \u001b[0;36mAxes.bar\u001b[0;34m(self, x, height, width, bottom, align, **kwargs)\u001b[0m\n\u001b[1;32m   2498\u001b[0m         left \u001b[38;5;241m=\u001b[39m x \u001b[38;5;241m-\u001b[39m width \u001b[38;5;241m/\u001b[39m \u001b[38;5;241m2\u001b[39m\n\u001b[1;32m   2499\u001b[0m     \u001b[38;5;28;01mexcept\u001b[39;00m \u001b[38;5;167;01mTypeError\u001b[39;00m \u001b[38;5;28;01mas\u001b[39;00m e:\n\u001b[0;32m-> 2500\u001b[0m         \u001b[38;5;28;01mraise\u001b[39;00m \u001b[38;5;167;01mTypeError\u001b[39;00m(\u001b[38;5;124mf\u001b[39m\u001b[38;5;124m'\u001b[39m\u001b[38;5;124mthe dtypes of parameters x (\u001b[39m\u001b[38;5;132;01m{\u001b[39;00mx\u001b[38;5;241m.\u001b[39mdtype\u001b[38;5;132;01m}\u001b[39;00m\u001b[38;5;124m) \u001b[39m\u001b[38;5;124m'\u001b[39m\n\u001b[1;32m   2501\u001b[0m                         \u001b[38;5;124mf\u001b[39m\u001b[38;5;124m'\u001b[39m\u001b[38;5;124mand width (\u001b[39m\u001b[38;5;132;01m{\u001b[39;00mwidth\u001b[38;5;241m.\u001b[39mdtype\u001b[38;5;132;01m}\u001b[39;00m\u001b[38;5;124m) \u001b[39m\u001b[38;5;124m'\u001b[39m\n\u001b[1;32m   2502\u001b[0m                         \u001b[38;5;124mf\u001b[39m\u001b[38;5;124m'\u001b[39m\u001b[38;5;124mare incompatible\u001b[39m\u001b[38;5;124m'\u001b[39m) \u001b[38;5;28;01mfrom\u001b[39;00m \u001b[38;5;21;01me\u001b[39;00m\n\u001b[1;32m   2503\u001b[0m     bottom \u001b[38;5;241m=\u001b[39m y\n\u001b[1;32m   2504\u001b[0m \u001b[38;5;28;01melse\u001b[39;00m:  \u001b[38;5;66;03m# horizontal\u001b[39;00m\n",
      "\u001b[0;31mTypeError\u001b[0m: the dtypes of parameters x (timedelta64[ns]) and width (float64) are incompatible"
     ]
    },
    {
     "data": {
      "image/png": "[encoded data removed]",
      "text/plain": [
       "<Figure size 640x480 with 1 Axes>"
      ]
     },
     "metadata": {},
     "output_type": "display_data"
    }
   ],
   "source": [
    "grouped_df = congress_trades_df.groupby(\"TimeToReport\").size()\n",
    "plot_group_counts(congress_trades_df,\"TimeToReport\")\n"
   ]
  },
  {
   "cell_type": "code",
   "execution_count": null,
   "metadata": {},
   "outputs": [],
   "source": []
  }
 ],
 "metadata": {
  "kernelspec": {
   "display_name": "venv",
   "language": "python",
   "name": "python3"
  },
  "language_info": {
   "codemirror_mode": {
    "name": "ipython",
    "version": 3
   },
   "file_extension": ".py",
   "mimetype": "text/x-python",
   "name": "python",
   "nbconvert_exporter": "python",
   "pygments_lexer": "ipython3",
   "version": "3.9.0"
  }
 },
 "nbformat": 4,
 "nbformat_minor": 2
}
