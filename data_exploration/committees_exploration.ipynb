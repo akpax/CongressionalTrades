{
 "cells": [
  {
   "cell_type": "code",
   "execution_count": null,
   "metadata": {},
   "outputs": [],
   "source": []
  },
  {
   "cell_type": "markdown",
   "metadata": {},
   "source": [
    "# Summary\n",
    "\n",
    "### Available Data\n",
    "- current congress members committee membership .yaml\n",
    "- Congress trade records\n",
    "- Congress committees\n",
    "- Stock Meta Data\n",
    "\n",
    "### Goal:\n",
    "- join dataframes together so that congress committees are associated with the respective congress person's trading record\n",
    "- join stock meta data to trading records as well\n",
    "- explore data and determine non-null records we ahve after all merging is completed\n",
    "- use Google's universal sentence encoder to determine semantic similarity between commitee and stock meta information"
   ]
  },
  {
   "cell_type": "markdown",
   "metadata": {},
   "source": []
  }
 ],
 "metadata": {
  "language_info": {
   "name": "python"
  }
 },
 "nbformat": 4,
 "nbformat_minor": 2
}
